{
 "cells": [
  {
   "cell_type": "code",
   "execution_count": 1,
   "metadata": {},
   "outputs": [],
   "source": [
    "import numpy as np\n",
    "import pandas as pd\n",
    "from osgeo import gdal"
   ]
  },
  {
   "cell_type": "code",
   "execution_count": 35,
   "metadata": {},
   "outputs": [],
   "source": [
    "arr = np.array([\n",
    "    [ # cat 1\n",
    "        [5, 0, 3, 3, 7],\n",
    "        [9, 3, 5, 2, 4],\n",
    "        [7, 6, 8, 8, 1]\n",
    "    ],\n",
    "    [ # cat 2\n",
    "        [6, 1, 5, 7, 10],\n",
    "        [10, 4, 6, 5, 6],\n",
    "        [8, 8, 9, 9, 8]\n",
    "    ],\n",
    "    [ # cat 3\n",
    "        [5, 2, 10, 8, 12],\n",
    "        [11, 5, 7, 7, 8],\n",
    "        [9, 9, 10, 11, 15]\n",
    "    ]\n",
    "])\n"
   ]
  },
  {
   "cell_type": "code",
   "execution_count": 36,
   "metadata": {},
   "outputs": [
    {
     "name": "stdout",
     "output_type": "stream",
     "text": [
      "(3, 3, 5)\n",
      "[[[ 5  0  3  3  7]\n",
      "  [ 9  3  5  2  4]\n",
      "  [ 7  6  8  8  1]]\n",
      "\n",
      " [[ 6  1  5  7 10]\n",
      "  [10  4  6  5  6]\n",
      "  [ 8  8  9  9  8]]\n",
      "\n",
      " [[ 7  2 10  8 12]\n",
      "  [11  5  7  7  8]\n",
      "  [ 9  9 10 11 15]]]\n"
     ]
    }
   ],
   "source": [
    "# Ensure values are ascending across layers at the same position\n",
    "shape = arr.shape\n",
    "print(shape)\n",
    "for row in range(shape[1]): # For each row\n",
    "    #print(f'row:{row}')\n",
    "    for col in range(shape[2]): # For each column\n",
    "        #print(f'col:{col}')\n",
    "        for layer in range(1, shape[0]): # For each cat after the first\n",
    "            #print(f'cat:{layer}')\n",
    "            if arr[layer, row, col] <= arr[layer - 1, row, col]:\n",
    "                arr[layer, row, col] = arr[layer - 1, row, col] + 1\n",
    "\n",
    "# Display the adjusted 3D array\n",
    "print(arr)"
   ]
  },
  {
   "cell_type": "code",
   "execution_count": null,
   "metadata": {},
   "outputs": [],
   "source": []
  }
 ],
 "metadata": {
  "kernelspec": {
   "display_name": "Python 3",
   "language": "python",
   "name": "python3"
  },
  "language_info": {
   "codemirror_mode": {
    "name": "ipython",
    "version": 3
   },
   "file_extension": ".py",
   "mimetype": "text/x-python",
   "name": "python",
   "nbconvert_exporter": "python",
   "pygments_lexer": "ipython3",
   "version": "3.10.8"
  },
  "orig_nbformat": 4
 },
 "nbformat": 4,
 "nbformat_minor": 2
}
