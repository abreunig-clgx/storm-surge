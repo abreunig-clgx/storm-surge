{
 "cells": [
  {
   "cell_type": "code",
   "execution_count": 1,
   "metadata": {},
   "outputs": [],
   "source": [
    "import numpy as np"
   ]
  },
  {
   "cell_type": "code",
   "execution_count": 11,
   "metadata": {},
   "outputs": [
    {
     "data": {
      "text/plain": [
       "array([[64,  6, 98, 74, 90, 48, 66, 87, 93, 18],\n",
       "       [ 6, 63, 35, 66, 82, 54, 25, 59, 12, 75],\n",
       "       [65, 25, 80, 87, 81, 88, 39, 32, 99, 73],\n",
       "       [ 9, 80, 41, 17, 41, 97, 94, 70, 78, 49],\n",
       "       [95, 17,  4, 12, 22, 21, 80, 40, 37, 57],\n",
       "       [29, 40, 90, 75, 43, 90, 27,  5,  5, 67],\n",
       "       [72, 59, 56, 84, 18, 55, 87,  9, 90,  1],\n",
       "       [99, 55, 24, 72, 63, 49, 58, 25, 15, 19],\n",
       "       [31, 40, 32, 90, 46,  8, 37, 93, 24, 15],\n",
       "       [23, 43, 86, 32, 43, 87, 63, 40, 83, 35]])"
      ]
     },
     "execution_count": 11,
     "metadata": {},
     "output_type": "execute_result"
    }
   ],
   "source": [
    "dem = np.random.randint(0, 101, size=(10, 10), dtype=np.int32) # height in feet\n",
    "dem"
   ]
  },
  {
   "cell_type": "code",
   "execution_count": 12,
   "metadata": {},
   "outputs": [],
   "source": [
    "rows, cols = dem.shape\n",
    "flow_direction = np.zeros_like(dem, dtype=np.int8)\n",
    "\n",
    "for i in range(1, rows - 1):\n",
    "    for j in range(1, cols - 1):\n",
    "        # Calculate differences in elevation to the eight neighboring cells\n",
    "        elevation_diff = dem[i, j] - dem[i - 1:i + 2, j - 1:j + 2]\n",
    "\n",
    "        # Create an array of directions (0-7) corresponding to the eight neighbors\n",
    "        directions = np.array([[1, 2, 3], [8, 0, 4], [7, 6, 5]])\n",
    "\n",
    "        # Find the direction of the steepest downward slope\n",
    "        direction = np.unravel_index(np.argmax(elevation_diff), (3, 3))\n",
    "        flow_direction[i, j] = directions[direction]\n"
   ]
  },
  {
   "cell_type": "code",
   "execution_count": 13,
   "metadata": {},
   "outputs": [
    {
     "data": {
      "text/plain": [
       "array([[0, 0, 0, 0, 0, 0, 0, 0, 0, 0],\n",
       "       [0, 2, 1, 8, 3, 4, 0, 4, 0, 0],\n",
       "       [0, 1, 5, 6, 7, 3, 2, 3, 2, 0],\n",
       "       [0, 5, 6, 7, 7, 6, 7, 2, 1, 0],\n",
       "       [0, 4, 0, 8, 8, 0, 5, 6, 7, 0],\n",
       "       [0, 3, 2, 1, 1, 7, 4, 0, 5, 0],\n",
       "       [0, 5, 6, 4, 0, 8, 3, 2, 4, 0],\n",
       "       [0, 4, 0, 3, 5, 6, 7, 2, 3, 0],\n",
       "       [0, 7, 2, 1, 4, 0, 8, 3, 2, 0],\n",
       "       [0, 0, 0, 0, 0, 0, 0, 0, 0, 0]], dtype=int8)"
      ]
     },
     "execution_count": 13,
     "metadata": {},
     "output_type": "execute_result"
    }
   ],
   "source": [
    "flow_direction"
   ]
  },
  {
   "cell_type": "code",
   "execution_count": null,
   "metadata": {},
   "outputs": [],
   "source": []
  }
 ],
 "metadata": {
  "kernelspec": {
   "display_name": "Python 3",
   "language": "python",
   "name": "python3"
  },
  "language_info": {
   "codemirror_mode": {
    "name": "ipython",
    "version": 3
   },
   "file_extension": ".py",
   "mimetype": "text/x-python",
   "name": "python",
   "nbconvert_exporter": "python",
   "pygments_lexer": "ipython3",
   "version": "3.10.8"
  }
 },
 "nbformat": 4,
 "nbformat_minor": 2
}
