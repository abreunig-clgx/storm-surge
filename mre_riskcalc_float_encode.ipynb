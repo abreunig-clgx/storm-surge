{
 "cells": [
  {
   "cell_type": "code",
   "execution_count": 1,
   "metadata": {},
   "outputs": [],
   "source": [
    "import math\n",
    "import numpy as np"
   ]
  },
  {
   "cell_type": "code",
   "execution_count": 4,
   "metadata": {},
   "outputs": [
    {
     "name": "stdout",
     "output_type": "stream",
     "text": [
      "fips\n",
      "[[108001 108001 108001]\n",
      " [108001 108001 108001]\n",
      " [108001 108001 108001]]\n",
      "____________________\n",
      "risk\n",
      "[[0 0 0]\n",
      " [0 0 0]\n",
      " [0 0 0]]\n",
      "____________________\n",
      "levee\n",
      "[[95 82 97]\n",
      " [20 13 32]\n",
      " [82 99 80]]\n",
      "____________________\n",
      "cat1\n",
      "[[5 6 4]\n",
      " [8 0 5]\n",
      " [0 7 0]]\n",
      "____________________\n",
      "cat2\n",
      "[[ 8 10  6]\n",
      " [ 0  6  5]\n",
      " [ 8  7  9]]\n",
      "____________________\n",
      "cat3\n",
      "[[5 2 7]\n",
      " [0 3 3]\n",
      " [2 3 0]]\n",
      "____________________\n",
      "cat4\n",
      "[[ 5  9  3]\n",
      " [10  0  9]\n",
      " [10  0  9]]\n",
      "____________________\n",
      "cat5\n",
      "[[ 8  1 10]\n",
      " [ 2  1  4]\n",
      " [ 8  5  0]]\n"
     ]
    }
   ],
   "source": [
    "\n",
    "\n",
    "# Set the seed for reproducibility\n",
    "#np.random.seed(42)\n",
    "\n",
    "# Create the 8 different 2D arrays\n",
    "# first array is 3x3 with value of 08001\n",
    "fips = np.full((3, 3), 108001, dtype=np.int32) # will need to change this to 08001\n",
    "risk = np.zeros((3, 3), dtype=np.int32) # zeros will change during the risk calcualtion\n",
    "levee = np.random.randint(1, 101, size=(3, 3), dtype=np.int32) # height in feet\n",
    "cat1 = np.random.randint(0, 11, size=(3, 3), dtype=np.int32) # height in feet\n",
    "cat2 = np.random.randint(0, 11, size=(3, 3), dtype=np.int32) # height in feet\n",
    "cat3 = np.random.randint(0, 11, size=(3, 3), dtype=np.int32)   # height in feet\n",
    "cat4 = np.random.randint(0, 11, size=(3, 3), dtype=np.int32) # height in feet\n",
    "cat5 = np.random.randint(0, 11, size=(3, 3), dtype=np.int32) # height in feet\n",
    "\n",
    "print('fips')\n",
    "print(fips)\n",
    "print('____________________')\n",
    "print('risk')\n",
    "print(risk)\n",
    "print('____________________')\n",
    "print('levee')\n",
    "print(levee)\n",
    "print('____________________')\n",
    "print('cat1')\n",
    "print(cat1)\n",
    "print('____________________')\n",
    "print('cat2')\n",
    "print(cat2)\n",
    "print('____________________')\n",
    "print('cat3')\n",
    "print(cat3)\n",
    "print('____________________')\n",
    "print('cat4')\n",
    "print(cat4)\n",
    "print('____________________')  \n",
    "print('cat5')\n",
    "print(cat5)"
   ]
  },
  {
   "cell_type": "code",
   "execution_count": 5,
   "metadata": {},
   "outputs": [
    {
     "name": "stdout",
     "output_type": "stream",
     "text": [
      "____________________\n",
      "cat1\n",
      "[[5. 6. 4.]\n",
      " [8. 0. 5.]\n",
      " [0. 7. 0.]]\n",
      "____________________\n",
      "cat2\n",
      "[[ 8. 10.  6.]\n",
      " [ 0.  6.  5.]\n",
      " [ 8.  7.  9.]]\n",
      "____________________\n",
      "cat3\n",
      "[[5. 2. 7.]\n",
      " [0. 3. 3.]\n",
      " [2. 3. 0.]]\n",
      "____________________\n",
      "cat4\n",
      "[[ 5.  9.  3.]\n",
      " [10.  0.  9.]\n",
      " [10.  0.  9.]]\n",
      "____________________\n",
      "cat5\n",
      "[[ 8.  1. 10.]\n",
      " [ 2.  1.  4.]\n",
      " [ 8.  5.  0.]]\n"
     ]
    }
   ],
   "source": [
    "# convert all the arrays to float\n",
    "cat1 = cat1.astype(np.float32)\n",
    "cat2 = cat2.astype(np.float32)\n",
    "cat3 = cat3.astype(np.float32)\n",
    "cat4 = cat4.astype(np.float32)\n",
    "cat5 = cat5.astype(np.float32)\n",
    "\n",
    "print('____________________')\n",
    "print('cat1')\n",
    "print(cat1)\n",
    "print('____________________')\n",
    "print('cat2')\n",
    "print(cat2)\n",
    "print('____________________')\n",
    "print('cat3')\n",
    "print(cat3)\n",
    "print('____________________')\n",
    "print('cat4')\n",
    "print(cat4)\n",
    "print('____________________')\n",
    "print('cat5')\n",
    "print(cat5)"
   ]
  },
  {
   "cell_type": "code",
   "execution_count": 10,
   "metadata": {},
   "outputs": [
    {
     "name": "stdout",
     "output_type": "stream",
     "text": [
      "[[ 5.  6.  4.]\n",
      " [ 8. -1.  5.]\n",
      " [-1.  7. -1.]]\n",
      "____________________\n",
      "[[ 8. 10.  6.]\n",
      " [-1.  6.  5.]\n",
      " [ 8.  7.  9.]]\n",
      "____________________\n",
      "[[ 5.  2.  7.]\n",
      " [-1.  3.  3.]\n",
      " [ 2.  3. -1.]]\n",
      "____________________\n",
      "[[ 5.  9.  3.]\n",
      " [10. -1.  9.]\n",
      " [10. -1.  9.]]\n",
      "____________________\n",
      "[[ 8.  1. 10.]\n",
      " [ 2.  1.  4.]\n",
      " [ 8.  5. -1.]]\n"
     ]
    }
   ],
   "source": [
    "def convert_nodata(arr):\n",
    "    arr[arr == 0] = -1\n",
    "    return arr\n",
    "\n",
    "cat1 = convert_nodata(cat1) \n",
    "cat2 = convert_nodata(cat2)\n",
    "cat3 = convert_nodata(cat3)\n",
    "cat4 = convert_nodata(cat4) \n",
    "cat5 = convert_nodata(cat5)\n",
    "\n",
    "print(cat1)\n",
    "print('____________________')\n",
    "print(cat2)\n",
    "print('____________________')\n",
    "print(cat3)\n",
    "print('____________________')\n",
    "print(cat4)\n",
    "print('____________________')\n",
    "print(cat5)\n"
   ]
  },
  {
   "cell_type": "code",
   "execution_count": 12,
   "metadata": {},
   "outputs": [
    {
     "data": {
      "text/plain": [
       "array([[ 3.,  4.,  2.],\n",
       "       [-1.,  7.,  0.],\n",
       "       [ 9.,  0., 10.]], dtype=float32)"
      ]
     },
     "execution_count": 12,
     "metadata": {},
     "output_type": "execute_result"
    }
   ],
   "source": [
    "#  subtract cat1 from cat2 where element is -1\n",
    "cat12 = np.where((cat1 == -1) | (cat2 != -1), cat2 - cat1, cat2)\n",
    "cat12"
   ]
  },
  {
   "cell_type": "code",
   "execution_count": 13,
   "metadata": {},
   "outputs": [
    {
     "data": {
      "text/plain": [
       "masked_array(\n",
       "  data=[[3.0, 4.0, 2.0],\n",
       "        [--, 7.0, 0.0],\n",
       "        [9.0, 0.0, 10.0]],\n",
       "  mask=[[False, False, False],\n",
       "        [ True, False, False],\n",
       "        [False, False, False]],\n",
       "  fill_value=1e+20,\n",
       "  dtype=float32)"
      ]
     },
     "execution_count": 13,
     "metadata": {},
     "output_type": "execute_result"
    }
   ],
   "source": [
    "np.ma.masked_where(cat12 == -1, cat12)"
   ]
  },
  {
   "cell_type": "code",
   "execution_count": 17,
   "metadata": {},
   "outputs": [
    {
     "data": {
      "text/plain": [
       "0.011"
      ]
     },
     "execution_count": 17,
     "metadata": {},
     "output_type": "execute_result"
    }
   ],
   "source": [
    "11/1000"
   ]
  },
  {
   "cell_type": "code",
   "execution_count": 14,
   "metadata": {},
   "outputs": [
    {
     "name": "stdout",
     "output_type": "stream",
     "text": [
      "[[1.58 1.7  1.46]\n",
      " [1.79 2.06 1.55]\n",
      " [2.08 1.77 2.09]]\n"
     ]
    }
   ],
   "source": [
    "CAT1_SLOT = 10 # first slot after decimal\n",
    "CAT2_SLOT = 100 # second slot after decimal\n",
    "CAT3_SLOT = 1000 # third slot after decimal\n",
    "CAT4_SLOT = 10000 # fourth slot after decimal\n",
    "CAT5_SLOT = 100000 # fifth slot after decimal\n",
    "\n",
    "cat12_nodata_mask = np.ma.masked_where(cat12 == -1, cat12)\n",
    "main_arr = np.where(cat2 < cat12_nodata_mask, np.round(2+(0 + cat2/CAT2_SLOT), 5), np.round(1+(cat1/CAT1_SLOT + cat2/CAT2_SLOT),5))\n",
    "\n",
    "print(main_arr)"
   ]
  },
  {
   "cell_type": "code",
   "execution_count": 37,
   "metadata": {},
   "outputs": [
    {
     "name": "stdout",
     "output_type": "stream",
     "text": [
      "[[ 3.  1.  7.]\n",
      " [ 8. -1.  6.]\n",
      " [ 6. -1.  6.]]\n",
      "____________________\n",
      "[[6. 5. 8.]\n",
      " [9. 1. 1.]\n",
      " [5. 3. 7.]]\n",
      "____________________\n",
      "[[ 7. 10.  9.]\n",
      " [ 4.  5.  3.]\n",
      " [ 6.  7. -1.]]\n",
      "____________________\n",
      "[[4. 3. 9.]\n",
      " [7. 5. 8.]\n",
      " [5. 8. 7.]]\n",
      "____________________\n",
      "[[ 2.  3.  5.]\n",
      " [ 7.  3.  8.]\n",
      " [ 5. 10.  4.]]\n"
     ]
    }
   ],
   "source": [
    "print(cat1)\n",
    "print('____________________')\n",
    "print(cat2)\n",
    "print('____________________')\n",
    "print(cat3)\n",
    "print('____________________')\n",
    "print(cat4)\n",
    "print('____________________')\n",
    "print(cat5)"
   ]
  },
  {
   "cell_type": "code",
   "execution_count": null,
   "metadata": {},
   "outputs": [],
   "source": []
  },
  {
   "cell_type": "code",
   "execution_count": null,
   "metadata": {},
   "outputs": [],
   "source": []
  },
  {
   "cell_type": "code",
   "execution_count": null,
   "metadata": {},
   "outputs": [],
   "source": []
  },
  {
   "cell_type": "code",
   "execution_count": 4,
   "metadata": {},
   "outputs": [
    {
     "data": {
      "text/plain": [
       "array([[[108001, 108001, 108001],\n",
       "        [108001, 108001, 108001],\n",
       "        [108001, 108001, 108001]],\n",
       "\n",
       "       [[     0,      0,      0],\n",
       "        [     0,      0,      0],\n",
       "        [     0,      0,      0]],\n",
       "\n",
       "       [[     3,    100,     67],\n",
       "        [    72,     62,     94],\n",
       "        [    44,     44,     81]],\n",
       "\n",
       "       [[     7,      0,      3],\n",
       "        [     0,      7,      0],\n",
       "        [     8,      3,      7]],\n",
       "\n",
       "       [[    10,      7,      1],\n",
       "        [     7,      9,      4],\n",
       "        [     3,      7,      1]],\n",
       "\n",
       "       [[     2,      4,      3],\n",
       "        [     4,      1,      6],\n",
       "        [     0,      7,      8]],\n",
       "\n",
       "       [[     2,      4,      9],\n",
       "        [     9,      7,      1],\n",
       "        [    10,      3,     10]],\n",
       "\n",
       "       [[     1,      7,      3],\n",
       "        [    10,      5,      0],\n",
       "        [     1,      2,      4]]])"
      ]
     },
     "execution_count": 4,
     "metadata": {},
     "output_type": "execute_result"
    }
   ],
   "source": [
    "# stack the arrays in this shape: 8x3x3\n",
    "df = np.stack((fips, risk, levee, cat1, cat2, cat3, cat4, cat5), axis=0)\n",
    "df"
   ]
  },
  {
   "cell_type": "code",
   "execution_count": 5,
   "metadata": {},
   "outputs": [
    {
     "data": {
      "text/plain": [
       "array([108001,      0,      3,      7,     10,      2,      2,      1])"
      ]
     },
     "execution_count": 5,
     "metadata": {},
     "output_type": "execute_result"
    }
   ],
   "source": [
    "# give me all the dimension values at pixel 0,0 \n",
    "df[:, 0, 0]"
   ]
  },
  {
   "cell_type": "code",
   "execution_count": 6,
   "metadata": {},
   "outputs": [
    {
     "name": "stdout",
     "output_type": "stream",
     "text": [
      "(8, 3, 3)\n"
     ]
    },
    {
     "data": {
      "text/plain": [
       "array([[[108001, 108001, 108001],\n",
       "        [108001, 108001, 108001],\n",
       "        [108001, 108001, 108001]],\n",
       "\n",
       "       [[     0,      0,      0],\n",
       "        [     0,      0,      0],\n",
       "        [     0,      0,      0]],\n",
       "\n",
       "       [[     3,    100,     67],\n",
       "        [    72,     62,     94],\n",
       "        [    44,     44,     81]],\n",
       "\n",
       "       [[     7,      0,      3],\n",
       "        [     0,      7,      0],\n",
       "        [     8,      3,      7]],\n",
       "\n",
       "       [[    10,      7,      1],\n",
       "        [     7,      9,      4],\n",
       "        [     3,      7,      1]],\n",
       "\n",
       "       [[    11,      8,      3],\n",
       "        [     8,     10,      6],\n",
       "        [     4,      8,      8]],\n",
       "\n",
       "       [[    12,      9,      9],\n",
       "        [     9,     11,      7],\n",
       "        [    10,      9,     10]],\n",
       "\n",
       "       [[    13,     10,     10],\n",
       "        [    10,     12,      8],\n",
       "        [    11,     10,     11]]])"
      ]
     },
     "execution_count": 6,
     "metadata": {},
     "output_type": "execute_result"
    }
   ],
   "source": [
    "# Ensure values are ascending across layers at the same position\n",
    "shape = df.shape\n",
    "print(shape)\n",
    "for row in range(shape[1]): # For each row\n",
    "    #print(f'row:{row}')\n",
    "    for col in range(shape[2]): # For each column\n",
    "        #print(f'col:{col}')\n",
    "        for layer in range(5, shape[0]): # For each cat after the first\n",
    "            #print(f'cat:{layer}')\n",
    "            if df[layer, row, col] <= df[layer - 1, row, col]:\n",
    "                df[layer, row, col] = df[layer - 1, row, col] + 1\n",
    "\n",
    "df"
   ]
  },
  {
   "cell_type": "code",
   "execution_count": null,
   "metadata": {},
   "outputs": [],
   "source": []
  },
  {
   "cell_type": "code",
   "execution_count": null,
   "metadata": {},
   "outputs": [],
   "source": []
  }
 ],
 "metadata": {
  "kernelspec": {
   "display_name": "Python 3",
   "language": "python",
   "name": "python3"
  },
  "language_info": {
   "codemirror_mode": {
    "name": "ipython",
    "version": 3
   },
   "file_extension": ".py",
   "mimetype": "text/x-python",
   "name": "python",
   "nbconvert_exporter": "python",
   "pygments_lexer": "ipython3",
   "version": "3.10.8"
  },
  "orig_nbformat": 4
 },
 "nbformat": 4,
 "nbformat_minor": 2
}
