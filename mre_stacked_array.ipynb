{
 "cells": [
  {
   "cell_type": "markdown",
   "metadata": {},
   "source": [
    "You can think of each array as a seperate raster which shape = 3x3\n",
    "By stacking each raster, you can get a single \"pixels\" value for each raster.\n",
    "The rasters represent the dimensions of the stacked array. "
   ]
  },
  {
   "cell_type": "code",
   "execution_count": 3,
   "metadata": {},
   "outputs": [
    {
     "name": "stdout",
     "output_type": "stream",
     "text": [
      "fips\n",
      "[[108001 108001 108001]\n",
      " [108001 108001 108001]\n",
      " [108001 108001 108001]]\n",
      "____________________\n",
      "risk\n",
      "[[0 0 0]\n",
      " [0 0 0]\n",
      " [0 0 0]]\n",
      "____________________\n",
      "levee\n",
      "[[  3 100  67]\n",
      " [ 72  62  94]\n",
      " [ 44  44  81]]\n",
      "____________________\n",
      "cat1\n",
      "[[7 0 3]\n",
      " [0 7 0]\n",
      " [8 3 7]]\n",
      "____________________\n",
      "cat2\n",
      "[[10  7  1]\n",
      " [ 7  9  4]\n",
      " [ 3  7  1]]\n",
      "____________________\n",
      "cat3\n",
      "[[2 4 3]\n",
      " [4 1 6]\n",
      " [0 7 8]]\n",
      "____________________\n",
      "cat4\n",
      "[[ 2  4  9]\n",
      " [ 9  7  1]\n",
      " [10  3 10]]\n",
      "____________________\n",
      "cat5\n",
      "[[ 1  7  3]\n",
      " [10  5  0]\n",
      " [ 1  2  4]]\n"
     ]
    }
   ],
   "source": [
    "import numpy as np\n",
    "\n",
    "# Set the seed for reproducibility\n",
    "#np.random.seed(42)\n",
    "\n",
    "# Create the 8 different 2D arrays\n",
    "# first array is 3x3 with value of 08001\n",
    "fips = np.full((3, 3), 108001, dtype=np.int32) # will need to change this to 08001\n",
    "risk = np.zeros((3, 3), dtype=np.int32) # zeros will change during the risk calcualtion\n",
    "levee = np.random.randint(1, 101, size=(3, 3), dtype=np.int32) # height in feet\n",
    "cat1 = np.random.randint(0, 11, size=(3, 3), dtype=np.int32) # height in feet\n",
    "cat2 = np.random.randint(0, 11, size=(3, 3), dtype=np.int32) # height in feet\n",
    "cat3 = np.random.randint(0, 11, size=(3, 3), dtype=np.int32)   # height in feet\n",
    "cat4 = np.random.randint(0, 11, size=(3, 3), dtype=np.int32) # height in feet\n",
    "cat5 = np.random.randint(0, 11, size=(3, 3), dtype=np.int32) # height in feet\n",
    "\n",
    "print('fips')\n",
    "print(fips)\n",
    "print('____________________')\n",
    "print('risk')\n",
    "print(risk)\n",
    "print('____________________')\n",
    "print('levee')\n",
    "print(levee)\n",
    "print('____________________')\n",
    "print('cat1')\n",
    "print(cat1)\n",
    "print('____________________')\n",
    "print('cat2')\n",
    "print(cat2)\n",
    "print('____________________')\n",
    "print('cat3')\n",
    "print(cat3)\n",
    "print('____________________')\n",
    "print('cat4')\n",
    "print(cat4)\n",
    "print('____________________')  \n",
    "print('cat5')\n",
    "print(cat5)"
   ]
  },
  {
   "cell_type": "code",
   "execution_count": 4,
   "metadata": {},
   "outputs": [
    {
     "data": {
      "text/plain": [
       "array([[[108001, 108001, 108001],\n",
       "        [108001, 108001, 108001],\n",
       "        [108001, 108001, 108001]],\n",
       "\n",
       "       [[     0,      0,      0],\n",
       "        [     0,      0,      0],\n",
       "        [     0,      0,      0]],\n",
       "\n",
       "       [[     3,    100,     67],\n",
       "        [    72,     62,     94],\n",
       "        [    44,     44,     81]],\n",
       "\n",
       "       [[     7,      0,      3],\n",
       "        [     0,      7,      0],\n",
       "        [     8,      3,      7]],\n",
       "\n",
       "       [[    10,      7,      1],\n",
       "        [     7,      9,      4],\n",
       "        [     3,      7,      1]],\n",
       "\n",
       "       [[     2,      4,      3],\n",
       "        [     4,      1,      6],\n",
       "        [     0,      7,      8]],\n",
       "\n",
       "       [[     2,      4,      9],\n",
       "        [     9,      7,      1],\n",
       "        [    10,      3,     10]],\n",
       "\n",
       "       [[     1,      7,      3],\n",
       "        [    10,      5,      0],\n",
       "        [     1,      2,      4]]])"
      ]
     },
     "execution_count": 4,
     "metadata": {},
     "output_type": "execute_result"
    }
   ],
   "source": [
    "# stack the arrays in this shape: 8x3x3\n",
    "df = np.stack((fips, risk, levee, cat1, cat2, cat3, cat4, cat5), axis=0)\n",
    "df"
   ]
  },
  {
   "cell_type": "code",
   "execution_count": 5,
   "metadata": {},
   "outputs": [
    {
     "data": {
      "text/plain": [
       "array([108001,      0,      3,      7,     10,      2,      2,      1])"
      ]
     },
     "execution_count": 5,
     "metadata": {},
     "output_type": "execute_result"
    }
   ],
   "source": [
    "# give me all the dimension values at pixel 0,0 \n",
    "df[:, 0, 0]"
   ]
  },
  {
   "cell_type": "code",
   "execution_count": 6,
   "metadata": {},
   "outputs": [
    {
     "name": "stdout",
     "output_type": "stream",
     "text": [
      "(8, 3, 3)\n"
     ]
    },
    {
     "data": {
      "text/plain": [
       "array([[[108001, 108001, 108001],\n",
       "        [108001, 108001, 108001],\n",
       "        [108001, 108001, 108001]],\n",
       "\n",
       "       [[     0,      0,      0],\n",
       "        [     0,      0,      0],\n",
       "        [     0,      0,      0]],\n",
       "\n",
       "       [[     3,    100,     67],\n",
       "        [    72,     62,     94],\n",
       "        [    44,     44,     81]],\n",
       "\n",
       "       [[     7,      0,      3],\n",
       "        [     0,      7,      0],\n",
       "        [     8,      3,      7]],\n",
       "\n",
       "       [[    10,      7,      1],\n",
       "        [     7,      9,      4],\n",
       "        [     3,      7,      1]],\n",
       "\n",
       "       [[    11,      8,      3],\n",
       "        [     8,     10,      6],\n",
       "        [     4,      8,      8]],\n",
       "\n",
       "       [[    12,      9,      9],\n",
       "        [     9,     11,      7],\n",
       "        [    10,      9,     10]],\n",
       "\n",
       "       [[    13,     10,     10],\n",
       "        [    10,     12,      8],\n",
       "        [    11,     10,     11]]])"
      ]
     },
     "execution_count": 6,
     "metadata": {},
     "output_type": "execute_result"
    }
   ],
   "source": [
    "# Ensure values are ascending across layers at the same position\n",
    "shape = df.shape\n",
    "print(shape)\n",
    "for row in range(shape[1]): # For each row\n",
    "    #print(f'row:{row}')\n",
    "    for col in range(shape[2]): # For each column\n",
    "        #print(f'col:{col}')\n",
    "        for layer in range(5, shape[0]): # For each cat after the first\n",
    "            #print(f'cat:{layer}')\n",
    "            if df[layer, row, col] <= df[layer - 1, row, col]:\n",
    "                df[layer, row, col] = df[layer - 1, row, col] + 1\n",
    "\n",
    "df"
   ]
  },
  {
   "cell_type": "code",
   "execution_count": null,
   "metadata": {},
   "outputs": [],
   "source": []
  },
  {
   "cell_type": "code",
   "execution_count": null,
   "metadata": {},
   "outputs": [],
   "source": []
  },
  {
   "cell_type": "code",
   "execution_count": null,
   "metadata": {},
   "outputs": [],
   "source": [
    "aaa"
   ]
  },
  {
   "cell_type": "code",
   "execution_count": 2,
   "metadata": {},
   "outputs": [],
   "source": [
    "ds2 = gdal.Open('test_cat2.tif')\n",
    "ds3 = gdal.Open('test_cat3.tif')\n",
    "\n",
    "cat2 = ds2.ReadAsArray()\n",
    "cat3 = ds3.ReadAsArray()"
   ]
  },
  {
   "cell_type": "code",
   "execution_count": 3,
   "metadata": {},
   "outputs": [
    {
     "name": "stdout",
     "output_type": "stream",
     "text": [
      "(11, 16)\n",
      "(11, 16)\n"
     ]
    }
   ],
   "source": [
    "print(cat2.shape)\n",
    "print(cat3.shape)"
   ]
  },
  {
   "cell_type": "code",
   "execution_count": 5,
   "metadata": {},
   "outputs": [],
   "source": [
    "all_cats = np.array([cat2, cat3])"
   ]
  },
  {
   "cell_type": "code",
   "execution_count": 6,
   "metadata": {},
   "outputs": [
    {
     "data": {
      "text/plain": [
       "array([[[ 5,  5,  5,  5,  5,  5,  5,  5,  5,  5,  5,  5,  5,  5,  5,  5],\n",
       "        [ 5,  5,  5,  5,  5,  5,  5,  5,  5,  5,  5,  5,  5,  5,  5,  5],\n",
       "        [ 5,  5,  5,  5,  5,  5,  5,  5,  5,  5,  5,  5,  5,  5,  5,  5],\n",
       "        [ 5,  5,  5,  5,  5,  5,  5,  5,  5,  5,  5,  5,  5,  5,  5,  5],\n",
       "        [ 5,  5,  5,  5,  5,  5,  5,  5,  5,  5,  5,  5,  5,  5,  5,  5],\n",
       "        [ 5,  5,  5,  5,  5,  5,  5,  5,  5,  5,  5,  5,  5,  5,  5,  5],\n",
       "        [ 5,  5,  5,  5,  5,  5,  5,  5,  5,  5,  5,  5,  5,  5,  5,  5],\n",
       "        [ 5,  5,  5,  5,  5,  5,  5,  5,  5,  5,  5,  5,  5,  5,  5,  5],\n",
       "        [ 5,  5,  5,  5,  5,  5,  5,  5,  5,  5,  5,  5,  5,  5,  5,  5],\n",
       "        [ 5,  5,  5,  5,  5,  5,  5,  5,  5,  5,  5,  5,  5,  5,  5,  5],\n",
       "        [ 5,  5,  5,  5,  5,  5,  5,  5,  5,  5,  5,  5,  5,  5,  5,  5]],\n",
       "\n",
       "       [[10, 10, 10, 10, 10, 10, 10, 10, 10, 10, 10, 10, 10, 10, 10, 10],\n",
       "        [10, 10, 10, 10, 10, 10, 10, 10, 10, 10, 10, 10, 10, 10, 10, 10],\n",
       "        [10, 10, 10, 10, 10, 10, 10, 10, 10, 10, 10, 10, 10, 10, 10, 10],\n",
       "        [10, 10, 10, 10, 10, 10, 10, 10, 10, 10, 10, 10, 10, 10, 10, 10],\n",
       "        [10, 10, 10, 10, 10, 10, 10, 10, 10, 10, 10, 10, 10, 10, 10, 10],\n",
       "        [10, 10, 10, 10, 10, 10, 10, 10, 10, 10, 10, 10, 10, 10, 10, 10],\n",
       "        [10, 10, 10, 10, 10, 10, 10, 10, 10, 10, 10, 10, 10, 10, 10, 10],\n",
       "        [10, 10, 10, 10, 10, 10, 10, 10, 10, 10, 10, 10, 10, 10, 10, 10],\n",
       "        [10, 10, 10, 10, 10, 10, 10, 10, 10, 10, 10, 10, 10, 10, 10, 10],\n",
       "        [10, 10, 10, 10, 10, 10, 10, 10, 10, 10, 10, 10, 10, 10, 10, 10],\n",
       "        [10, 10, 10, 10, 10, 10, 10, 10, 10, 10, 10, 10, 10, 10, 10, 10]]],\n",
       "      dtype=uint8)"
      ]
     },
     "execution_count": 6,
     "metadata": {},
     "output_type": "execute_result"
    }
   ],
   "source": [
    "all_cats"
   ]
  },
  {
   "cell_type": "code",
   "execution_count": 9,
   "metadata": {},
   "outputs": [
    {
     "data": {
      "text/plain": [
       "array([[5, 5, 5, 5, 5, 5, 5, 5, 5, 5, 5, 5, 5, 5, 5, 5],\n",
       "       [5, 5, 5, 5, 5, 5, 5, 5, 5, 5, 5, 5, 5, 5, 5, 5],\n",
       "       [5, 5, 5, 5, 5, 5, 5, 5, 5, 5, 5, 5, 5, 5, 5, 5],\n",
       "       [5, 5, 5, 5, 5, 5, 5, 5, 5, 5, 5, 5, 5, 5, 5, 5],\n",
       "       [5, 5, 5, 5, 5, 5, 5, 5, 5, 5, 5, 5, 5, 5, 5, 5],\n",
       "       [5, 5, 5, 5, 5, 5, 5, 5, 5, 5, 5, 5, 5, 5, 5, 5],\n",
       "       [5, 5, 5, 5, 5, 5, 5, 5, 5, 5, 5, 5, 5, 5, 5, 5],\n",
       "       [5, 5, 5, 5, 5, 5, 5, 5, 5, 5, 5, 5, 5, 5, 5, 5],\n",
       "       [5, 5, 5, 5, 5, 5, 5, 5, 5, 5, 5, 5, 5, 5, 5, 5],\n",
       "       [5, 5, 5, 5, 5, 5, 5, 5, 5, 5, 5, 5, 5, 5, 5, 5],\n",
       "       [5, 5, 5, 5, 5, 5, 5, 5, 5, 5, 5, 5, 5, 5, 5, 5]], dtype=uint8)"
      ]
     },
     "execution_count": 9,
     "metadata": {},
     "output_type": "execute_result"
    }
   ],
   "source": [
    "shape = all_cats.shape\n",
    "all_cats[0] # cat2\n",
    "all_cats[1] # cat3"
   ]
  },
  {
   "cell_type": "code",
   "execution_count": null,
   "metadata": {},
   "outputs": [],
   "source": []
  }
 ],
 "metadata": {
  "kernelspec": {
   "display_name": "Python 3",
   "language": "python",
   "name": "python3"
  },
  "language_info": {
   "codemirror_mode": {
    "name": "ipython",
    "version": 3
   },
   "file_extension": ".py",
   "mimetype": "text/x-python",
   "name": "python",
   "nbconvert_exporter": "python",
   "pygments_lexer": "ipython3",
   "version": "3.10.8"
  },
  "orig_nbformat": 4
 },
 "nbformat": 4,
 "nbformat_minor": 2
}
